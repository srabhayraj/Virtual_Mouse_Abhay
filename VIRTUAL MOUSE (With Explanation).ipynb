{
 "cells": [
  {
   "cell_type": "markdown",
   "metadata": {},
   "source": [
    "# VIRTUAL MOUSE"
   ]
  },
  {
   "cell_type": "markdown",
   "metadata": {},
   "source": [
    "##### WXPYTHON\n",
    "- pip install wxPython\n",
    "- With wxPython software developers can create truly native user interfaces for their Python applications, that run with little or no modifications on Windows, Macs and Linux or other unix-like systems.\n",
    "- wxPython is a cross-platform GUI toolkit for the Python programming language. It allows Python programmers to create programs with a robust, highly functional graphical user interface, simply and easily. It is implemented as a set of Python extension modules that wrap the GUI components of the popular wxWidgets cross platform library, which is written in C++.\n",
    "- https://wxpython.org/Phoenix/docs/html/wx.functions.html"
   ]
  },
  {
   "cell_type": "markdown",
   "metadata": {},
   "source": [
    "##### PYNPUT\n",
    "- pip install pynput\n",
    "- This library allows you to control and monitor input devices. Currently, mouse and keyboard input and monitoring are supported.\n"
   ]
  },
  {
   "cell_type": "markdown",
   "metadata": {},
   "source": [
    "### Demo For pynput"
   ]
  },
  {
   "cell_type": "code",
   "execution_count": null,
   "metadata": {},
   "outputs": [],
   "source": [
    "from pynput.mouse import Button, Controller\n",
    "\n",
    "mouse = Controller()\n",
    "\n",
    "# Read pointer position\n",
    "print('The current pointer position is {0}'.format(\n",
    "    mouse.position))\n",
    "\n",
    "# Set pointer position\n",
    "mouse.position = (10, 20)\n",
    "print('Now we have moved it to {0}'.format(\n",
    "    mouse.position))\n",
    "\n",
    "# Move pointer relative to current position\n",
    "mouse.move(5, -5)\n",
    "\n",
    "# Press and release\n",
    "mouse.press(Button.left)\n",
    "mouse.release(Button.left)\n",
    "\n",
    "# Double click; this is different from pressing and releasing\n",
    "# twice on Mac OSX\n",
    "mouse.click(Button.left, 2)\n",
    "\n",
    "# Scroll two steps down\n",
    "mouse.scroll(0, 2)"
   ]
  },
  {
   "cell_type": "markdown",
   "metadata": {},
   "source": [
    "### Demo For wxPython"
   ]
  },
  {
   "cell_type": "code",
   "execution_count": null,
   "metadata": {},
   "outputs": [],
   "source": [
    "# First things, first. Import the wxPython package.\n",
    "import wx\n",
    "\n",
    "# Next, create an application object.\n",
    "app = wx.App()\n",
    "\n",
    "# Then a frame.\n",
    "frm = wx.Frame(None, title=\"Hello World\")\n",
    "\n",
    "# Show it.\n",
    "frm.Show()\n",
    "\n",
    "# Start the event loop.\n",
    "app.MainLoop()"
   ]
  },
  {
   "cell_type": "markdown",
   "metadata": {},
   "source": [
    "##### GaussianBlur()\n",
    "- Blurs an image using a Gaussian filter.The function convolves the source image with the specified Gaussian kernel. In-place filtering is supported.\n",
    "- dst\t=\tcv.GaussianBlur(\tsrc, ksize, sigmaX[, dst[, sigmaY[, borderType]]]\t)\n"
   ]
  },
  {
   "cell_type": "markdown",
   "metadata": {},
   "source": [
    "##### Morphological transformations\n",
    "Morphological transformations are some simple operations based on the image shape. It is normally performed on binary images. It needs two inputs, one is our original image, second one is called structuring element or kernel which decides the nature of operation. Two basic morphological operators are Erosion and Dilation. Then its variant forms like Opening, Closing, Gradient etc also comes into play.\n",
    "https://docs.opencv.org/trunk/d9/d61/tutorial_py_morphological_ops.html"
   ]
  },
  {
   "cell_type": "markdown",
   "metadata": {},
   "source": [
    "##### morphologyEx()\n",
    "- Performs advanced morphological transformations.The function cv::morphologyEx can perform advanced morphological transformations using an erosion and dilation as basic operations.Any of the operations can be done in-place. In case of multi-channel images, each channel is processed independently.\n",
    "- dst\t=\tcv.morphologyEx(\tsrc, op, kernel[, dst[, anchor[, iterations[, borderType[, borderValue]]]]]\t)\n"
   ]
  },
  {
   "cell_type": "markdown",
   "metadata": {},
   "source": [
    "###### DAMPING\n",
    "- It is used to make mouse cursor smooth so that it don't flicker everything and to reduce it's speed as by default it is very fast\n",
    "- adding the damping factor so that the movement of the mouse is smoother\n",
    "\n",
    "###### Pinch_Flag\n",
    "It is used because when object/fingers touches each other and become a single object it repeatedly keeps clicking and it creates a problem. so by this we stop repetead clicks if camera detects a single object/finger or distance b/w finguers=0"
   ]
  },
  {
   "cell_type": "markdown",
   "metadata": {},
   "source": [
    "##### CONTOURS\n",
    "- Contours can be explained simply as a curve joining all the continuous points (along the boundary), having same color or intensity. The contours are a useful tool for shape analysis and object detection and recognition.\n",
    "- there are three arguments in cv.findContours() function, first one is source image, second is contour retrieval mode, third is contour approximation method. And it outputs the contours and hierarchy. Contours is a Python list of all the contours in the image. Each individual contour is a Numpy array of (x,y) coordinates of boundary points of the object.\n",
    "- https://docs.opencv.org/trunk/d4/d73/tutorial_py_contours_begin.html"
   ]
  },
  {
   "cell_type": "code",
   "execution_count": null,
   "metadata": {},
   "outputs": [],
   "source": [
    "import cv2 as cv                              #For Computer Vision & Image processing\n",
    "import numpy as np                            #For numbers\n",
    "from pynput.mouse import Button,Controller    #I/O controls \n",
    "import wx                                     #GUI Toolkit"
   ]
  },
  {
   "cell_type": "code",
   "execution_count": null,
   "metadata": {},
   "outputs": [],
   "source": [
    "mouse = Controller()"
   ]
  },
  {
   "cell_type": "code",
   "execution_count": null,
   "metadata": {},
   "outputs": [],
   "source": [
    "app = wx.App(False)          #Making new window GUI\n",
    "\n",
    "#app = QtGui.QApplication([])"
   ]
  },
  {
   "cell_type": "code",
   "execution_count": null,
   "metadata": {},
   "outputs": [],
   "source": [
    "(sx,sy) = wx.GetDisplaySize()         #wx.GetDisplaySize() - Returns the display size in pixels.\n",
    "\n",
    "#sx, sy = screen_resolution.width(), screen_resolution.height()"
   ]
  },
  {
   "cell_type": "code",
   "execution_count": null,
   "metadata": {},
   "outputs": [],
   "source": [
    "#(camx,camy) = (320,240)"
   ]
  },
  {
   "cell_type": "code",
   "execution_count": null,
   "metadata": {},
   "outputs": [],
   "source": [
    "cam = cv.VideoCapture(0)          #Open Camera shutter / Start camera"
   ]
  },
  {
   "cell_type": "code",
   "execution_count": null,
   "metadata": {},
   "outputs": [],
   "source": [
    "(camx,camy) = (320,240)   # - camera will capture an image in this resolution \n",
    "\n",
    "#Adjusting Resolution\n",
    "\n",
    "cam.set(3,camx)     \n",
    "cam.set(4,camy)"
   ]
  },
  {
   "cell_type": "code",
   "execution_count": null,
   "metadata": {},
   "outputs": [],
   "source": [
    "mlocold = np.array([0,0])\n",
    "mouseloc = np.array([0,0])\n",
    "damfac = 2.5                # It's value should be more than 1\n",
    "pinch_flag = 0"
   ]
  },
  {
   "cell_type": "code",
   "execution_count": null,
   "metadata": {},
   "outputs": [],
   "source": [
    "#mouseLoc=mLocOld+(targetLoc-mLocOld)/damfac\n",
    "#mouse_location = mouse_location_old + (Target_location - mouse_location_old)/Damping_Factor\n",
    "\n",
    "#adding the damping factor so that the movement of the mouse is smoother"
   ]
  },
  {
   "cell_type": "markdown",
   "metadata": {},
   "source": [
    "_____________________________________________________________________________________________________________________________"
   ]
  },
  {
   "cell_type": "code",
   "execution_count": 1,
   "metadata": {},
   "outputs": [],
   "source": [
    "import cv2 as cv \n",
    "import numpy as np \n",
    "from pynput.mouse import Button,Controller\n",
    "import wx\n",
    "\n",
    "mouse = Controller()\n",
    "app = wx.App(False)\n",
    "(sx,sy) = wx.GetDisplaySize()\n",
    "(camx,camy) = (320,240)\n",
    "\n",
    "cam = cv.VideoCapture(0)\n",
    "cam.set(3,camx)\n",
    "cam.set(4,camy)\n",
    "\n",
    "mlocold = np.array([0,0])\n",
    "mouseloc = np.array([0,0])\n",
    "damfac = 2.5\n",
    "pinch_flag = 0\n",
    "outerx,outery,outerw,outerh=(0,0,0,0)\n",
    "\n",
    "\n",
    "\n",
    "\n",
    "while(1):\n",
    "    \n",
    "    #  CAPTURE FRAME-BY-FRAME:\n",
    "    ret,img = cam.read()\n",
    "    \n",
    "    img = cv.GaussianBlur(img,(5,5),0)   #Image filter\n",
    "    \n",
    "    #  Convert BGR to HSV\n",
    "    hsv_img = cv.cvtColor(img,cv.COLOR_BGR2HSV)     #For Object Detection(colour) convert BGR to HSV\n",
    "    \n",
    "    #  Create the mask\n",
    "    mask = cv.inRange(hsv_img,np.array([33,80,40]),np.array([102,255,255]))    #Range of green colour\n",
    "    \n",
    "    #  Morphology\n",
    "    mask_open = cv.morphologyEx(mask,cv.MORPH_OPEN,np.ones((5,5)))\n",
    "    mask_close = cv.morphologyEx(mask_open,cv.MORPH_CLOSE,np.ones((20,20)))\n",
    "    mask_final = mask_close\n",
    "\n",
    "    conts,_ = cv.findContours(mask_final.copy(),cv.RETR_EXTERNAL,cv.CHAIN_APPROX_SIMPLE)\n",
    "    cv.drawContours(img,conts,-1,(0,0,255),3)\n",
    "    \n",
    "    \n",
    "    \n",
    "    \n",
    "    \n",
    "    \n",
    "    \n",
    "    \n",
    "    if(len(conts)==2):              #len(conts)==2 open position\n",
    "        if(pinch_flag==1):          #If fingers are open\n",
    "            pinch_flag = 0    \n",
    "            mouse.release(Button.left)\n",
    "        \n",
    "        \n",
    "        x1,y1,w1,h1 = cv.boundingRect(conts[0])   #First finger/object\n",
    "        x2,y2,w2,h2 = cv.boundingRect(conts[1])   #Second finger/object\n",
    "        \n",
    "        \n",
    "        #  EITHER BUILD RECTANGLE OR CIRCLE\n",
    "        #cv.rectangle(img,(x1,y1),(x1+w1,y1+h1),(255,0,0),2)\n",
    "        #cv.rectangle(img,(x2,y2),(x2+w2,y2+h2),(255,0,0),2)   \n",
    "        #cv.rectangle(input(starting_x,starting_y),(final coordinates),(colour),thickness)  \n",
    "        #-(x2+w2,y2+h2) as rectangle will constantly move so their coordinates will change according to fingers/object\n",
    "        \n",
    "        \n",
    "        #  MAKING CENTRE (Circle)\n",
    "        cx1 = round(x1+w1/2)\n",
    "        cy1 = round(y1+h1/2)\n",
    "        cx2 = round(x2+w2/2)\n",
    "        cy2 = round(y2+h2/2)\n",
    "        \n",
    "        #  MAKING LINE BETWEEN CENTRE OF FIRST OBJECT & SENCOND OBJECT\n",
    "        cv.line(img,(cx1,cy1),(cx2,cy2),(255,0,0),2)\n",
    "        \n",
    "        #  CENTRE OF LINE DRAWN BETWEEN FIRST OBJECT & SENCOND OBJECT\n",
    "        cx = round(cx1/2+cx2/2)\n",
    "        cy = round(cy1/2+cy2/2)\n",
    "        \n",
    "        cv.circle(img,(cx,cy),2,(0,0,255),2)   #-Marking the centre by red circle\n",
    "        \n",
    "        \n",
    "        \n",
    "        mouseloc = mlocold+((cx,cy)-mlocold)/damfac\n",
    "        #  AS THERE IS A DIFFERENCE B/W SCREEN RESOLUTION & CAMERA RESOLUTION (we want mouse cursor to move on whole screen not only on camera window)\n",
    "        mouse.position = (round(sx - (mouseloc[0]*sx/camx)),round((mouseloc[1]*sy/camy)))\n",
    "        #mouse.position=(cx*sx/camx,cy*sy/camy):                                   - this will create mirror effect     \n",
    "        #mouse.position=(sx-(cx*sx/camx),cy*sy/camy):                              - to correct mirror effect\n",
    "        #mouse.position=(sx-(mouseloc[0]*sx/camx)),round((mouseloc[1]*sy/camy))    -current mouse location(after smoothning)\n",
    "        mlocold = mouseloc    #It will change the old location to new one for next itration\n",
    "        \n",
    "        #  IF ONE OF FINGERS ABRUBTLY GOT DISAPPEAR THEN WE WILL SE THE AREA \n",
    "        outerx,outery,outerw,outerh=cv.boundingRect(np.array([[[x1,y1],[x1+w1,y1+h1],[x2,y2],[x2+w2,y2+h2]]])) \n",
    "        cv.rectangle(img,(outerx,outery),(outerx+outerw,outery+outerh),(255,0,0),2)\n",
    "        #If area is very small that means it is only single finger beacuse when we will perform a click action then combination of both fingers will have large area\n",
    "    \n",
    "    \n",
    "    \n",
    "    \n",
    "    \n",
    "    \n",
    "    \n",
    "    \n",
    "    \n",
    "    \n",
    "    elif(len(conts)==1):                      #len(conts)==1 close position fingers/object got close (click)\n",
    "        x,y,w,h = cv.boundingRect(conts[0])   #On closing fingers it will become a single object/box\n",
    "        if(pinch_flag==0):                    # If fingers are close\n",
    "            if(abs((w*h-outerw*outerh)*100/(w*h))<20):\n",
    "                pinch_flag = 1\n",
    "                mouse.press(Button.left)\n",
    "        \n",
    "       # x,y,w,h = cv.boundingRect(conts[0])   #On closing fingers it will become a single object/box\n",
    "        \n",
    "        #  EITHER BUILD RECTANGLE OR CIRCLE\n",
    "        #cv.rectangle(img,(x,y),(x+w,y+h),(255,0,0),2)\n",
    "        \n",
    "        \n",
    "        #  ELSE - SO THAT ONLY ONE FINGER/OBJECT IS GUIDING IT WON'T WORK (Right click action won't happen)\n",
    "        else:\n",
    "             #  MAKING CENTRE (Circle) - of a single object now\n",
    "            cx = round(x+w/2)\n",
    "            cy = round(y+h/2)\n",
    "        \n",
    "            # CIRCLE WHEN OBJECTS MEET AND RIGHT CLICK OPERATION OCCURS\n",
    "            cv.circle(img,(cx,cy),20,(0,0,255),2)\n",
    "        \n",
    "            #  TO REMOVE THE REPEATED ITRATION OF CHECKING AS IT IS CHECKED ABOVE\n",
    "            outerx,outery,outerw,outerh=(0,0,0,0)\n",
    "        \n",
    "            mouseloc = mlocold+((cx,cy)-mlocold)/damfac\n",
    "            #AS THERE IS A DIFFERENCE B/W SCREEN RESOLUTION & CAMERA RESOLUTION (we want mouse cursor to move on whole screen not only on camera window)\n",
    "            mouse.position = (round(sx - mouseloc[0]*sx/camx),round(mouseloc[1]*sy/camy))\n",
    "            #mouse.position=(cx*sx/camx,cy*sy/camy):       - this will create mirror effect     \n",
    "            #mouse.position=(sx-(cx*sx/camx),cy*sy/camy):  - to correct mirror effect\n",
    "            #mouse.position=(sx-(mouseloc[0]*sx/camx)),round((mouseloc[1]*sy/camy))    -current mouse location(after smoothning)\n",
    "            mlocold = mouseloc  #It will change the old location to new one for next itration\n",
    "        \n",
    "        \n",
    "        \n",
    "        \n",
    "    \n",
    "    \n",
    "    \n",
    "    \n",
    "    cv.imshow(\"cam\",img)\n",
    "    #cv.imshow(\"mask\",mask)\n",
    "    #cv.imshow(\"mask open\",mask_open)\n",
    "    cv.imshow(\"mask close\",mask_close)\n",
    "    if cv.waitKey(10) == 13:        #End program with ENTER (13 is key foe enter)\n",
    "        break\n",
    "    \n",
    "cv.destroyAllWindows()"
   ]
  },
  {
   "cell_type": "markdown",
   "metadata": {},
   "source": [
    "______________________________________________________________________________________________________________________________"
   ]
  },
  {
   "cell_type": "code",
   "execution_count": 2,
   "metadata": {},
   "outputs": [],
   "source": [
    "cam.release()"
   ]
  },
  {
   "cell_type": "markdown",
   "metadata": {},
   "source": [
    "pip install pynput"
   ]
  },
  {
   "cell_type": "markdown",
   "metadata": {},
   "source": [
    "pip install wxpython"
   ]
  },
  {
   "cell_type": "markdown",
   "metadata": {},
   "source": [
    "pip install opencv-python"
   ]
  }
 ],
 "metadata": {
  "kernelspec": {
   "display_name": "Python 3",
   "language": "python",
   "name": "python3"
  },
  "language_info": {
   "codemirror_mode": {
    "name": "ipython",
    "version": 3
   },
   "file_extension": ".py",
   "mimetype": "text/x-python",
   "name": "python",
   "nbconvert_exporter": "python",
   "pygments_lexer": "ipython3",
   "version": "3.8.2"
  }
 },
 "nbformat": 4,
 "nbformat_minor": 4
}
